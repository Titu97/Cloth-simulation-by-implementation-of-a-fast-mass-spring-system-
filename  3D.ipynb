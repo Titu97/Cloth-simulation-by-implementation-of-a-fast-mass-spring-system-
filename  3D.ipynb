{
 "cells": [
  {
   "cell_type": "code",
   "execution_count": null,
   "metadata": {},
   "outputs": [],
   "source": []
  },
  {
   "cell_type": "code",
   "execution_count": null,
   "metadata": {},
   "outputs": [],
   "source": []
  },
  {
   "cell_type": "code",
   "execution_count": 99,
   "metadata": {},
   "outputs": [],
   "source": [
    "import numpy as np\n",
    "\n",
    "num=14\n",
    "\n",
    "d=0\n",
    "s=0\n",
    "lst1=[None] * num*(num-1)\n",
    "\n",
    "\n",
    "for i in range(num):\n",
    "    \n",
    "    for j in range(num):        \n",
    "    \n",
    "         \n",
    "        if d>0:\n",
    "            \n",
    "            if d%num!=0:\n",
    "                lst1[s] = (d,d-1) \n",
    "                s=s+1\n",
    "             \n",
    "        d=d+1\n",
    "         \n",
    "     \n",
    "    \n",
    "r=tuple(lst1)\n",
    "\n",
    "\n",
    "\n",
    "d=0\n",
    "s=0\n",
    "ls=[None] * num*(num-1)\n",
    "\n",
    "for i in range(num):\n",
    "     \n",
    "    for j in range(num):\n",
    "        \n",
    "        if i<(num-1):            \n",
    "            ls[s] = (d,d+num) \n",
    "            s=s+1\n",
    "        d=d+1     \n",
    "            \n",
    "r1=tuple(ls)     \n",
    "\n",
    "\n",
    "\n",
    "\n",
    "        \n",
    "        \n",
    "\n",
    "a=np.array(r)\n",
    "b=np.array(r1)\n",
    "c=np.vstack((a,b))\n",
    "h=tuple(map(tuple, c))\n",
    "\n",
    "\n",
    "\n",
    "lst3=[None] * (num-1)*(num-1)*2\n",
    "d=0\n",
    "for i in range(len(r1)):\n",
    "    if i<(len(r1)-1):\n",
    "        if (i+1)%num!=0:\n",
    "            \n",
    "            lst3[d]=(r1[i][0],r1[i][1],r1[i+1][0])\n",
    "            d=d+1\n",
    "            lst3[d]=(r1[i+1][0],r1[i+1][1],r1[i][1])\n",
    "            d=d+1\n",
    "        \n",
    "    \n",
    "\n",
    "\n",
    "\n",
    "\n"
   ]
  },
  {
   "cell_type": "code",
   "execution_count": 121,
   "metadata": {},
   "outputs": [],
   "source": [
    "spring_constant=29+12+29+8\n",
    "A=np.zeros([num*num,num*num])\n",
    "for s in range(len(h)):\n",
    "    p=np.zeros(num*num)[np.newaxis].T\n",
    "    p[h[s][0] ]=1 \n",
    "    p[h[s][1] ]=-1\n",
    "    A=A+np.dot(p,p.T)*spring_constant\n",
    "    \n",
    "L=np.kron(A,np.identity(3))   \n",
    "\n",
    "\n",
    "A=np.zeros([num*num,len(h)])\n",
    "for s in range(len(h)):\n",
    "    p=np.zeros(num*num)[np.newaxis].T\n",
    "    p[h[s][0] ]=1 \n",
    "    p[h[s][1] ]=-1\n",
    "    S=np.zeros(len(h))[np.newaxis].T\n",
    "    S[s]=1\n",
    "    A=A+np.dot(p,S.T)*spring_constant \n",
    "    \n",
    "    \n",
    "J=np.kron(A,np.identity(3))\n",
    "\n",
    "mass=1\n",
    "\n",
    "M=np.zeros([num*num,num*num]) \n",
    "np.fill_diagonal(M, mass)\n",
    "M=np.kron(M,np.identity(3)) \n",
    "\n",
    "\n",
    "space=1\n",
    "\n",
    "ar=np.zeros((num*num,3))\n",
    "x1=-3\n",
    "d=0\n",
    "for i in range(num):\n",
    "         \n",
    "    y1=0 \n",
    "    for j in range(num):\n",
    "                  \n",
    "        ar[d] = [x1, y1,0] \n",
    "        y1=y1+space\n",
    "        d=d+1\n",
    "            \n",
    "    x1=x1+space\n",
    "v=tuple(ar)   \n",
    "\n",
    "\n",
    " \n",
    "\n",
    "x=np.reshape(v, (-1, 1))     \n",
    " "
   ]
  },
  {
   "cell_type": "code",
   "execution_count": 122,
   "metadata": {},
   "outputs": [],
   "source": [
    "a=1\n",
    "fg=np.zeros((num*num,3)) \n",
    "\n",
    "for i in range(num*num):\n",
    "    fg[i]=[0,-.8,0]\n",
    "    \n",
    "fg=np.reshape(fg, (-1, 1))                    \n",
    "\n",
    "    \n",
    "    "
   ]
  },
  {
   "cell_type": "code",
   "execution_count": 131,
   "metadata": {},
   "outputs": [
    {
     "ename": "KeyboardInterrupt",
     "evalue": "",
     "output_type": "error",
     "traceback": [
      "\u001b[1;31m---------------------------------------------------------------------------\u001b[0m",
      "\u001b[1;31mKeyboardInterrupt\u001b[0m                         Traceback (most recent call last)",
      "\u001b[1;32m<ipython-input-131-c33d4356db38>\u001b[0m in \u001b[0;36m<module>\u001b[1;34m()\u001b[0m\n\u001b[0;32m    121\u001b[0m    \u001b[0mxn\u001b[0m\u001b[1;33m=\u001b[0m\u001b[0mtuple\u001b[0m\u001b[1;33m(\u001b[0m\u001b[0mxn\u001b[0m\u001b[1;33m)\u001b[0m\u001b[1;33m\u001b[0m\u001b[0m\n\u001b[0;32m    122\u001b[0m \u001b[1;33m\u001b[0m\u001b[0m\n\u001b[1;32m--> 123\u001b[1;33m    \u001b[0mCloth\u001b[0m\u001b[1;33m(\u001b[0m\u001b[0mxn\u001b[0m\u001b[1;33m)\u001b[0m\u001b[1;33m\u001b[0m\u001b[0m\n\u001b[0m\u001b[0;32m    124\u001b[0m    \u001b[0mpygame\u001b[0m\u001b[1;33m.\u001b[0m\u001b[0mdisplay\u001b[0m\u001b[1;33m.\u001b[0m\u001b[0mflip\u001b[0m\u001b[1;33m(\u001b[0m\u001b[1;33m)\u001b[0m\u001b[1;33m\u001b[0m\u001b[0m\n\u001b[0;32m    125\u001b[0m    \u001b[0mpygame\u001b[0m\u001b[1;33m.\u001b[0m\u001b[0mtime\u001b[0m\u001b[1;33m.\u001b[0m\u001b[0mwait\u001b[0m\u001b[1;33m(\u001b[0m\u001b[1;36m10\u001b[0m\u001b[1;33m)\u001b[0m\u001b[1;33m\u001b[0m\u001b[0m\n",
      "\u001b[1;32m<ipython-input-131-c33d4356db38>\u001b[0m in \u001b[0;36mCloth\u001b[1;34m(p)\u001b[0m\n\u001b[0;32m     35\u001b[0m        \u001b[1;32mfor\u001b[0m \u001b[0mvertex\u001b[0m \u001b[1;32min\u001b[0m \u001b[0medge\u001b[0m\u001b[1;33m:\u001b[0m\u001b[1;33m\u001b[0m\u001b[0m\n\u001b[0;32m     36\u001b[0m            \u001b[0mglVertex3fv\u001b[0m\u001b[1;33m(\u001b[0m\u001b[0mp\u001b[0m\u001b[1;33m[\u001b[0m\u001b[0mvertex\u001b[0m\u001b[1;33m]\u001b[0m\u001b[1;33m)\u001b[0m\u001b[1;33m\u001b[0m\u001b[0m\n\u001b[1;32m---> 37\u001b[1;33m    \u001b[0mglEnd\u001b[0m\u001b[1;33m(\u001b[0m\u001b[1;33m)\u001b[0m\u001b[1;33m\u001b[0m\u001b[0m\n\u001b[0m\u001b[0;32m     38\u001b[0m    \u001b[0mc\u001b[0m\u001b[1;33m=\u001b[0m\u001b[1;36m0\u001b[0m\u001b[1;33m\u001b[0m\u001b[0m\n\u001b[0;32m     39\u001b[0m    \u001b[0mglBegin\u001b[0m\u001b[1;33m(\u001b[0m\u001b[0mGL_TRIANGLES\u001b[0m \u001b[1;33m)\u001b[0m\u001b[1;33m\u001b[0m\u001b[0m\n",
      "\u001b[1;32m~\\Anaconda3\\lib\\site-packages\\OpenGL\\latebind.py\u001b[0m in \u001b[0;36m__call__\u001b[1;34m(self, *args, **named)\u001b[0m\n\u001b[0;32m     59\u001b[0m         \u001b[1;32mdef\u001b[0m \u001b[0m__call__\u001b[0m\u001b[1;33m(\u001b[0m \u001b[0mself\u001b[0m\u001b[1;33m,\u001b[0m \u001b[1;33m*\u001b[0m\u001b[0margs\u001b[0m\u001b[1;33m,\u001b[0m \u001b[1;33m**\u001b[0m\u001b[0mnamed\u001b[0m \u001b[1;33m)\u001b[0m\u001b[1;33m:\u001b[0m\u001b[1;33m\u001b[0m\u001b[0m\n\u001b[0;32m     60\u001b[0m             \u001b[1;34m\"\"\"returns self.wrapperFunction( self.baseFunction, *args, **named )\"\"\"\u001b[0m\u001b[1;33m\u001b[0m\u001b[0m\n\u001b[1;32m---> 61\u001b[1;33m             \u001b[1;32mreturn\u001b[0m \u001b[0mself\u001b[0m\u001b[1;33m.\u001b[0m\u001b[0mwrapperFunction\u001b[0m\u001b[1;33m(\u001b[0m \u001b[0mself\u001b[0m\u001b[1;33m.\u001b[0m\u001b[0mbaseFunction\u001b[0m\u001b[1;33m,\u001b[0m \u001b[1;33m*\u001b[0m\u001b[0margs\u001b[0m\u001b[1;33m,\u001b[0m \u001b[1;33m**\u001b[0m\u001b[0mnamed\u001b[0m \u001b[1;33m)\u001b[0m\u001b[1;33m\u001b[0m\u001b[0m\n\u001b[0m",
      "\u001b[1;32m~\\Anaconda3\\lib\\site-packages\\OpenGL\\GL\\exceptional.py\u001b[0m in \u001b[0;36mglEnd\u001b[1;34m(baseFunction)\u001b[0m\n\u001b[0;32m     43\u001b[0m         \u001b[1;34m\"\"\"Finish GL geometry-definition mode, re-enable automatic error checking\"\"\"\u001b[0m\u001b[1;33m\u001b[0m\u001b[0m\n\u001b[0;32m     44\u001b[0m         \u001b[0m_errors\u001b[0m\u001b[1;33m.\u001b[0m\u001b[0m_error_checker\u001b[0m\u001b[1;33m.\u001b[0m\u001b[0monEnd\u001b[0m\u001b[1;33m(\u001b[0m \u001b[1;33m)\u001b[0m\u001b[1;33m\u001b[0m\u001b[0m\n\u001b[1;32m---> 45\u001b[1;33m         \u001b[1;32mreturn\u001b[0m \u001b[0mbaseFunction\u001b[0m\u001b[1;33m(\u001b[0m \u001b[1;33m)\u001b[0m\u001b[1;33m\u001b[0m\u001b[0m\n\u001b[0m\u001b[0;32m     46\u001b[0m \u001b[1;32melse\u001b[0m\u001b[1;33m:\u001b[0m\u001b[1;33m\u001b[0m\u001b[0m\n\u001b[0;32m     47\u001b[0m     \u001b[0mglBegin\u001b[0m \u001b[1;33m=\u001b[0m \u001b[0mfull\u001b[0m\u001b[1;33m.\u001b[0m\u001b[0mglBegin\u001b[0m\u001b[1;33m\u001b[0m\u001b[0m\n",
      "\u001b[1;32m~\\Anaconda3\\lib\\site-packages\\OpenGL\\error.py\u001b[0m in \u001b[0;36mglCheckError\u001b[1;34m(self, result, baseOperation, cArguments, *args)\u001b[0m\n\u001b[0;32m    204\u001b[0m                 \u001b[1;34m\"\"\"Used as error-checker when no error checking should be done\"\"\"\u001b[0m\u001b[1;33m\u001b[0m\u001b[0m\n\u001b[0;32m    205\u001b[0m                 \u001b[1;32mreturn\u001b[0m \u001b[0mself\u001b[0m\u001b[1;33m.\u001b[0m\u001b[0m_noErrorResult\u001b[0m\u001b[1;33m\u001b[0m\u001b[0m\n\u001b[1;32m--> 206\u001b[1;33m             def glCheckError( \n\u001b[0m\u001b[0;32m    207\u001b[0m                 \u001b[0mself\u001b[0m\u001b[1;33m,\u001b[0m\u001b[1;33m\u001b[0m\u001b[0m\n\u001b[0;32m    208\u001b[0m                 \u001b[0mresult\u001b[0m\u001b[1;33m,\u001b[0m\u001b[1;33m\u001b[0m\u001b[0m\n",
      "\u001b[1;31mKeyboardInterrupt\u001b[0m: "
     ]
    }
   ],
   "source": [
    " \n",
    "\n",
    "\n",
    "import pygame\n",
    "from pygame.locals import *\n",
    "\n",
    "from OpenGL.GL import *\n",
    "from OpenGL.GLU import *\n",
    "import random\n",
    " \n",
    " \n",
    "surfaces =lst3\n",
    "colors = (\n",
    "    (0,0,0),\n",
    "    (1,1,1),\n",
    "    (0,0,0),\n",
    "    (1,1,1),\n",
    "    (0,0,0),\n",
    "    (1,1,1),\n",
    "    (0,0,0),\n",
    "    (1,1,1),\n",
    "    (0,0,0),\n",
    "    (1,1,1),\n",
    "    (0,0,0),\n",
    "    (0,1,1),\n",
    "    )\n",
    "\n",
    "\n",
    "\n",
    " \n",
    "def Cloth(p):\n",
    "      \n",
    "    glBegin(GL_LINES)\n",
    "    for edge in h:\n",
    "        for vertex in edge:\n",
    "            glVertex3fv(p[vertex])\n",
    "    glEnd()\n",
    "    c=0\n",
    "    glBegin(GL_TRIANGLES )\n",
    "    for surface in surfaces:\n",
    "         \n",
    "        for vertex in surface:\n",
    "             \n",
    "            glColor3fv(colors[c])\n",
    "            #glVertex3fv(p[vertex])\n",
    "            if c>10:\n",
    "                c=0\n",
    "            c=c+1\n",
    "    glEnd()  \n",
    "    \n",
    "    \n",
    "       \n",
    "a=0    \n",
    "r= [[[] for i in range(2)] for i in range(1000000) ] \n",
    "p=np.zeros((len(h),3))\n",
    "d=np.zeros(3*len(h))[np.newaxis].T\n",
    "lst= [None] * num*num   \n",
    "step=.005\n",
    " \n",
    "c=np.linalg.pinv(M+L*step)\n",
    " \n",
    "y=x\n",
    "xn=np.reshape(x, (-1, 3))\n",
    "\n",
    "pygame.init()\n",
    "\n",
    "display = (800,600)\n",
    "pygame.display.set_mode(display, DOUBLEBUF|OPENGL)\n",
    "\n",
    "gluPerspective(45, (display[0]/display[1]), 0.1, 50.0)\n",
    "\n",
    "glTranslatef(0,0,-30)\n",
    "\n",
    "\n",
    "\n",
    "\n",
    "while True:\n",
    "    for event in pygame.event.get():\n",
    "        \n",
    "        if event.type == pygame.QUIT:\n",
    "            print(a)\n",
    "            pygame.quit()\n",
    "            quit()\n",
    "     \n",
    "    #glRotatef(1, 0, 1, 0)\n",
    "    glClear(GL_COLOR_BUFFER_BIT|GL_DEPTH_BUFFER_BIT)\n",
    "    \n",
    "    fe=np.random.uniform(low=-27, high=27, size=(num*num,3)) \n",
    "    \n",
    "    fe=np.reshape(fe, (-1, 1))\n",
    "     \n",
    "        \n",
    "        \n",
    "    \n",
    "    r[a]=np.reshape(xn, (-1, 1)) \n",
    "       \n",
    "    if a>0:\n",
    "        y=2*r[a]-r[a-1]\n",
    "        xn=np.reshape(y, (-1, 3))\n",
    "    \n",
    "    a=a+1\n",
    "    \n",
    "    \n",
    "    \n",
    "        \n",
    "    #solving \n",
    "    for k in range(2): \n",
    "         \n",
    "        for i in range(len(h)):\n",
    "            \n",
    "            p[i]=((xn[h[i][0]]-xn[h[i][1]])/(np.linalg.norm(xn[h[i][0]]-xn[h[i][1]])))*space\n",
    "            \n",
    "        d=np.reshape(p, (-1, 1))    \n",
    "        \n",
    "        \n",
    "        xn=np.dot(c,(np.dot(M,y) + np.dot(J,d)*step +(fe+fg)*step)) \n",
    "        xn=np.reshape(xn, (-1, 3))\n",
    "        xn[num*num-1]=[8,10,0]\n",
    "        xn[num-1]=[-7,10,0]\n",
    "      \n",
    "    xn=tuple(xn) \n",
    "      \n",
    "    Cloth(xn)\n",
    "    pygame.display.flip()\n",
    "    pygame.time.wait(10)\n",
    "\n",
    "\n",
    " "
   ]
  },
  {
   "cell_type": "code",
   "execution_count": 84,
   "metadata": {},
   "outputs": [],
   "source": []
  },
  {
   "cell_type": "code",
   "execution_count": 85,
   "metadata": {},
   "outputs": [],
   "source": [
    "d=0\n",
    "for i in range(len(r1)):\n",
    "    if i<(len(r1)-1):\n",
    "        if (i+1)%num!=0:\n",
    "            \n",
    "            lst3[d]=(r1[i][0],r1[i][1],r1[i+1][0])\n",
    "            d=d+1\n",
    "            lst3[d]=(r1[i+1][0],r1[i+1][1],r1[i][1])\n",
    "            d=d+1\n",
    "        \n",
    "    "
   ]
  },
  {
   "cell_type": "code",
   "execution_count": 86,
   "metadata": {},
   "outputs": [],
   "source": [
    "lst3[337+3+16]"
   ]
  },
  {
   "cell_type": "code",
   "execution_count": 87,
   "metadata": {},
   "outputs": [
    {
     "data": {
      "text/plain": [
       "338"
      ]
     },
     "execution_count": 87,
     "metadata": {},
     "output_type": "execute_result"
    }
   ],
   "source": [
    " d"
   ]
  },
  {
   "cell_type": "code",
   "execution_count": 81,
   "metadata": {},
   "outputs": [
    {
     "data": {
      "text/plain": [
       "((0, 14),\n",
       " (1, 15),\n",
       " (2, 16),\n",
       " (3, 17),\n",
       " (4, 18),\n",
       " (5, 19),\n",
       " (6, 20),\n",
       " (7, 21),\n",
       " (8, 22),\n",
       " (9, 23),\n",
       " (10, 24),\n",
       " (11, 25),\n",
       " (12, 26),\n",
       " (13, 27),\n",
       " (14, 28),\n",
       " (15, 29),\n",
       " (16, 30),\n",
       " (17, 31),\n",
       " (18, 32),\n",
       " (19, 33),\n",
       " (20, 34),\n",
       " (21, 35),\n",
       " (22, 36),\n",
       " (23, 37),\n",
       " (24, 38),\n",
       " (25, 39),\n",
       " (26, 40),\n",
       " (27, 41),\n",
       " (28, 42),\n",
       " (29, 43),\n",
       " (30, 44),\n",
       " (31, 45),\n",
       " (32, 46),\n",
       " (33, 47),\n",
       " (34, 48),\n",
       " (35, 49),\n",
       " (36, 50),\n",
       " (37, 51),\n",
       " (38, 52),\n",
       " (39, 53),\n",
       " (40, 54),\n",
       " (41, 55),\n",
       " (42, 56),\n",
       " (43, 57),\n",
       " (44, 58),\n",
       " (45, 59),\n",
       " (46, 60),\n",
       " (47, 61),\n",
       " (48, 62),\n",
       " (49, 63),\n",
       " (50, 64),\n",
       " (51, 65),\n",
       " (52, 66),\n",
       " (53, 67),\n",
       " (54, 68),\n",
       " (55, 69),\n",
       " (56, 70),\n",
       " (57, 71),\n",
       " (58, 72),\n",
       " (59, 73),\n",
       " (60, 74),\n",
       " (61, 75),\n",
       " (62, 76),\n",
       " (63, 77),\n",
       " (64, 78),\n",
       " (65, 79),\n",
       " (66, 80),\n",
       " (67, 81),\n",
       " (68, 82),\n",
       " (69, 83),\n",
       " (70, 84),\n",
       " (71, 85),\n",
       " (72, 86),\n",
       " (73, 87),\n",
       " (74, 88),\n",
       " (75, 89),\n",
       " (76, 90),\n",
       " (77, 91),\n",
       " (78, 92),\n",
       " (79, 93),\n",
       " (80, 94),\n",
       " (81, 95),\n",
       " (82, 96),\n",
       " (83, 97),\n",
       " (84, 98),\n",
       " (85, 99),\n",
       " (86, 100),\n",
       " (87, 101),\n",
       " (88, 102),\n",
       " (89, 103),\n",
       " (90, 104),\n",
       " (91, 105),\n",
       " (92, 106),\n",
       " (93, 107),\n",
       " (94, 108),\n",
       " (95, 109),\n",
       " (96, 110),\n",
       " (97, 111),\n",
       " (98, 112),\n",
       " (99, 113),\n",
       " (100, 114),\n",
       " (101, 115),\n",
       " (102, 116),\n",
       " (103, 117),\n",
       " (104, 118),\n",
       " (105, 119),\n",
       " (106, 120),\n",
       " (107, 121),\n",
       " (108, 122),\n",
       " (109, 123),\n",
       " (110, 124),\n",
       " (111, 125),\n",
       " (112, 126),\n",
       " (113, 127),\n",
       " (114, 128),\n",
       " (115, 129),\n",
       " (116, 130),\n",
       " (117, 131),\n",
       " (118, 132),\n",
       " (119, 133),\n",
       " (120, 134),\n",
       " (121, 135),\n",
       " (122, 136),\n",
       " (123, 137),\n",
       " (124, 138),\n",
       " (125, 139),\n",
       " (126, 140),\n",
       " (127, 141),\n",
       " (128, 142),\n",
       " (129, 143),\n",
       " (130, 144),\n",
       " (131, 145),\n",
       " (132, 146),\n",
       " (133, 147),\n",
       " (134, 148),\n",
       " (135, 149),\n",
       " (136, 150),\n",
       " (137, 151),\n",
       " (138, 152),\n",
       " (139, 153),\n",
       " (140, 154),\n",
       " (141, 155),\n",
       " (142, 156),\n",
       " (143, 157),\n",
       " (144, 158),\n",
       " (145, 159),\n",
       " (146, 160),\n",
       " (147, 161),\n",
       " (148, 162),\n",
       " (149, 163),\n",
       " (150, 164),\n",
       " (151, 165),\n",
       " (152, 166),\n",
       " (153, 167),\n",
       " (154, 168),\n",
       " (155, 169),\n",
       " (156, 170),\n",
       " (157, 171),\n",
       " (158, 172),\n",
       " (159, 173),\n",
       " (160, 174),\n",
       " (161, 175),\n",
       " (162, 176),\n",
       " (163, 177),\n",
       " (164, 178),\n",
       " (165, 179),\n",
       " (166, 180),\n",
       " (167, 181),\n",
       " (168, 182),\n",
       " (169, 183),\n",
       " (170, 184),\n",
       " (171, 185),\n",
       " (172, 186),\n",
       " (173, 187),\n",
       " (174, 188),\n",
       " (175, 189),\n",
       " (176, 190),\n",
       " (177, 191),\n",
       " (178, 192),\n",
       " (179, 193),\n",
       " (180, 194),\n",
       " (181, 195))"
      ]
     },
     "execution_count": 81,
     "metadata": {},
     "output_type": "execute_result"
    }
   ],
   "source": [
    " r1"
   ]
  },
  {
   "cell_type": "code",
   "execution_count": null,
   "metadata": {},
   "outputs": [],
   "source": [
    "\n",
    "d=0\n",
    "s=0\n",
    "lst3=[None] * num*(num-1)\n",
    "\n",
    "\n",
    "for i in range(num):\n",
    "    \n",
    "    for j in range(num):\n",
    "        \n",
    "        if i<(num-1):\n",
    "            if j<(num-1):\n",
    "                lst3[d]=()\n",
    "                \n",
    "                \n",
    "             \n",
    "                \n",
    "            \n",
    "            \n",
    " "
   ]
  },
  {
   "cell_type": "code",
   "execution_count": 51,
   "metadata": {},
   "outputs": [
    {
     "data": {
      "text/plain": [
       "182"
      ]
     },
     "execution_count": 51,
     "metadata": {},
     "output_type": "execute_result"
    }
   ],
   "source": [
    "space=1\n",
    "\n",
    "ar=np.zeros((num*num,3))\n",
    "x1=-3\n",
    "d=0\n",
    "for i in range(num):\n",
    "         \n",
    "    y1=0 \n",
    "    for j in range(num):\n",
    "                  \n",
    "        ar[d] = [x1, y1,0] \n",
    "        y1=y1+space\n",
    "        d=d+1\n",
    "            \n",
    "    x1=x1+space\n",
    "v=tuple(ar)   \n",
    " "
   ]
  },
  {
   "cell_type": "code",
   "execution_count": 52,
   "metadata": {},
   "outputs": [
    {
     "data": {
      "text/plain": [
       "(2, 1)"
      ]
     },
     "execution_count": 52,
     "metadata": {},
     "output_type": "execute_result"
    }
   ],
   "source": [
    "lst1[1]"
   ]
  },
  {
   "cell_type": "code",
   "execution_count": null,
   "metadata": {},
   "outputs": [],
   "source": []
  },
  {
   "cell_type": "code",
   "execution_count": null,
   "metadata": {},
   "outputs": [],
   "source": []
  },
  {
   "cell_type": "code",
   "execution_count": 28,
   "metadata": {},
   "outputs": [
    {
     "data": {
      "text/plain": [
       "364"
      ]
     },
     "execution_count": 28,
     "metadata": {},
     "output_type": "execute_result"
    }
   ],
   "source": [
    "len(p)"
   ]
  },
  {
   "cell_type": "code",
   "execution_count": 29,
   "metadata": {},
   "outputs": [
    {
     "data": {
      "text/plain": [
       "(364, 3)"
      ]
     },
     "execution_count": 29,
     "metadata": {},
     "output_type": "execute_result"
    }
   ],
   "source": [
    "p.shape"
   ]
  },
  {
   "cell_type": "code",
   "execution_count": 31,
   "metadata": {},
   "outputs": [
    {
     "data": {
      "text/plain": [
       "196"
      ]
     },
     "execution_count": 31,
     "metadata": {},
     "output_type": "execute_result"
    }
   ],
   "source": [
    " len(lst)"
   ]
  },
  {
   "cell_type": "code",
   "execution_count": 32,
   "metadata": {},
   "outputs": [
    {
     "data": {
      "text/plain": [
       "array([[-0.56690057,  0.55536661, -0.60843379],\n",
       "       [-0.48398883,  0.86931156, -0.10026076],\n",
       "       [-0.17391704,  0.84361895, -0.50799599],\n",
       "       ...,\n",
       "       [-0.62071514, -0.77186576, -0.137608  ],\n",
       "       [-0.54136819, -0.83907163,  0.05365899],\n",
       "       [-0.52911891, -0.84848587,  0.0102424 ]])"
      ]
     },
     "execution_count": 32,
     "metadata": {},
     "output_type": "execute_result"
    }
   ],
   "source": [
    "p"
   ]
  },
  {
   "cell_type": "code",
   "execution_count": null,
   "metadata": {},
   "outputs": [],
   "source": []
  },
  {
   "cell_type": "code",
   "execution_count": 27,
   "metadata": {},
   "outputs": [],
   "source": [
    "glBegin(GL_TRIANGLE_STRIP )\n",
    "for surface in surfaces:\n",
    "    \n",
    "    x = 0\n",
    "    for vertex in surface:\n",
    "        \n",
    "        x+=1\n",
    "        glColor3fv((.8,.5,1))\n",
    "        glVertex3fv(p[vertex])\n",
    "glEnd()"
   ]
  },
  {
   "cell_type": "code",
   "execution_count": null,
   "metadata": {},
   "outputs": [],
   "source": []
  },
  {
   "cell_type": "code",
   "execution_count": null,
   "metadata": {},
   "outputs": [],
   "source": []
  },
  {
   "cell_type": "code",
   "execution_count": null,
   "metadata": {},
   "outputs": [],
   "source": []
  },
  {
   "cell_type": "code",
   "execution_count": null,
   "metadata": {},
   "outputs": [],
   "source": []
  },
  {
   "cell_type": "code",
   "execution_count": null,
   "metadata": {},
   "outputs": [],
   "source": []
  },
  {
   "cell_type": "code",
   "execution_count": null,
   "metadata": {},
   "outputs": [],
   "source": []
  },
  {
   "cell_type": "code",
   "execution_count": null,
   "metadata": {},
   "outputs": [],
   "source": [
    "np.linalg.norm(v1[h[56][0]]-v1[h[56][1]])"
   ]
  },
  {
   "cell_type": "code",
   "execution_count": null,
   "metadata": {},
   "outputs": [],
   "source": []
  },
  {
   "cell_type": "code",
   "execution_count": null,
   "metadata": {},
   "outputs": [],
   "source": [
    "fe = np.random.uniform(low=-0.5, high=.4, size=(300,1))"
   ]
  },
  {
   "cell_type": "code",
   "execution_count": null,
   "metadata": {},
   "outputs": [],
   "source": [
    "v1[h[99][0]]-v1[h[99][1]] "
   ]
  },
  {
   "cell_type": "code",
   "execution_count": null,
   "metadata": {},
   "outputs": [],
   "source": [
    " r"
   ]
  },
  {
   "cell_type": "code",
   "execution_count": null,
   "metadata": {},
   "outputs": [],
   "source": []
  },
  {
   "cell_type": "code",
   "execution_count": null,
   "metadata": {},
   "outputs": [],
   "source": [
    "import numpy as np\n",
    "A=np.array([[1,0,2,0],[0,1,3,0],[3,0,0,4]]) \n",
    "B= np.linalg.pinv(A)  "
   ]
  },
  {
   "cell_type": "code",
   "execution_count": null,
   "metadata": {},
   "outputs": [],
   "source": [
    "np.dot(A,B)"
   ]
  },
  {
   "cell_type": "code",
   "execution_count": null,
   "metadata": {},
   "outputs": [],
   "source": [
    "n=np.kron(A,A)"
   ]
  },
  {
   "cell_type": "code",
   "execution_count": null,
   "metadata": {},
   "outputs": [],
   "source": [
    "n.shape"
   ]
  },
  {
   "cell_type": "code",
   "execution_count": null,
   "metadata": {},
   "outputs": [],
   "source": [
    "A=np.array([[1,2],[3,4]]) \n",
    "B=np.array([[2,0],[1,2]]) "
   ]
  },
  {
   "cell_type": "code",
   "execution_count": null,
   "metadata": {},
   "outputs": [],
   "source": [
    "np.dot(A,B)"
   ]
  },
  {
   "cell_type": "code",
   "execution_count": null,
   "metadata": {},
   "outputs": [],
   "source": [
    "\n",
    " "
   ]
  },
  {
   "cell_type": "code",
   "execution_count": null,
   "metadata": {},
   "outputs": [],
   "source": [
    " C.T"
   ]
  },
  {
   "cell_type": "code",
   "execution_count": null,
   "metadata": {},
   "outputs": [],
   "source": [
    "C=np.array([1,0,0,0,0-1,0,0,0])[np.newaxis]\n",
    "D=np.array([0,0,0,0,0,0,0,0,1,0,0])[np.newaxis]\n",
    "np.dot(C.T,D)"
   ]
  },
  {
   "cell_type": "code",
   "execution_count": null,
   "metadata": {},
   "outputs": [],
   "source": []
  },
  {
   "cell_type": "code",
   "execution_count": null,
   "metadata": {},
   "outputs": [],
   "source": [
    "\n"
   ]
  },
  {
   "cell_type": "code",
   "execution_count": null,
   "metadata": {},
   "outputs": [],
   "source": [
    "    x=-5\n",
    "    d=0\n",
    "    for i in range(10):  \n",
    "        \n",
    "        y=-5 \n",
    "        for j in range(10):\n",
    "            \n",
    "            lst[d] = (x, y,0) \n",
    "            y=y+1\n",
    "            d=d+1\n",
    "            \n",
    "        x=x+1\n",
    "    v=tuple(lst) "
   ]
  },
  {
   "cell_type": "code",
   "execution_count": null,
   "metadata": {},
   "outputs": [],
   "source": [
    "v[5]"
   ]
  },
  {
   "cell_type": "code",
   "execution_count": null,
   "metadata": {},
   "outputs": [],
   "source": [
    "A=np.zeros([8,11])\n",
    "for t in range(10):\n",
    "    \n",
    "    C=np.array([1,0,0,0,0-1,0,0,0])[np.newaxis]\n",
    "    D=np.array([0,0,0,0,0,0,0,0,1,0,0])[np.newaxis]\n",
    "    A=A+np.dot(C.T,D)\n",
    "A    \n",
    "    "
   ]
  },
  {
   "cell_type": "code",
   "execution_count": null,
   "metadata": {},
   "outputs": [],
   "source": [
    "np.zeros([1,4])"
   ]
  },
  {
   "cell_type": "code",
   "execution_count": null,
   "metadata": {},
   "outputs": [],
   "source": []
  },
  {
   "cell_type": "code",
   "execution_count": null,
   "metadata": {},
   "outputs": [],
   "source": []
  },
  {
   "cell_type": "code",
   "execution_count": null,
   "metadata": {},
   "outputs": [],
   "source": []
  },
  {
   "cell_type": "code",
   "execution_count": null,
   "metadata": {},
   "outputs": [],
   "source": []
  },
  {
   "cell_type": "code",
   "execution_count": null,
   "metadata": {},
   "outputs": [],
   "source": []
  },
  {
   "cell_type": "code",
   "execution_count": null,
   "metadata": {},
   "outputs": [],
   "source": []
  },
  {
   "cell_type": "code",
   "execution_count": null,
   "metadata": {},
   "outputs": [],
   "source": []
  },
  {
   "cell_type": "code",
   "execution_count": null,
   "metadata": {},
   "outputs": [],
   "source": [
    "import numpy as np\n",
    " \n",
    "d=0\n",
    "s=0\n",
    "lst1=[None] * 90\n",
    "lst= [None] * 100\n",
    "for i in range(10):\n",
    "    y=1\n",
    "    for j in range(10):        \n",
    "    \n",
    "         \n",
    "        if d>0:\n",
    "            \n",
    "            if d%10!=0:\n",
    "                lst1[s] = (d,d-1) \n",
    "                s=s+1\n",
    "             \n",
    "        d=d+1\n",
    "         \n",
    "     \n",
    "    \n",
    "r=tuple(lst1)\n",
    "\n",
    "\n",
    "\n",
    "d=0\n",
    "s=0\n",
    "ls=[None] * 90\n",
    "\n",
    "for i in range(10):\n",
    "     \n",
    "    for j in range(10):\n",
    "        \n",
    "        if i<(10-1):            \n",
    "            ls[s] = (d,d+10) \n",
    "            s=s+1\n",
    "        d=d+1     \n",
    "            \n",
    "r1=tuple(ls)        \n",
    "        \n",
    "        \n",
    "\n",
    "a=np.array(r)\n",
    "b=np.array(r1)\n",
    "c=np.vstack((a,b))\n",
    "h=tuple(map(tuple, c))\n"
   ]
  },
  {
   "cell_type": "code",
   "execution_count": null,
   "metadata": {},
   "outputs": [],
   "source": [
    "x=-5\n",
    "d=0\n",
    "for i in range(10):\n",
    "    \n",
    "        \n",
    "    y=-5 \n",
    "    for j in range(10):\n",
    "        \n",
    "            \n",
    "        lst[d] = (x, y,0) \n",
    "        y=y+1\n",
    "        d=d+1\n",
    "            \n",
    "        x=x+1\n",
    "v=tuple(lst)    "
   ]
  },
  {
   "cell_type": "code",
   "execution_count": null,
   "metadata": {},
   "outputs": [],
   "source": [
    "#dtermination of L"
   ]
  },
  {
   "cell_type": "code",
   "execution_count": null,
   "metadata": {},
   "outputs": [],
   "source": [
    "A=np.zeros([100,100])\n",
    "for s in range(len(h)):\n",
    "    p=np.zeros(100)[np.newaxis].T\n",
    "    p[h[s][0] ]=1 \n",
    "    p[h[s][1] ]=-1\n",
    "    A=A+np.dot(p,p.T)*1\n",
    "    \n",
    "L=np.kron(A,np.identity(3))   \n",
    "\n",
    "\n",
    "A=np.zeros([100,len(h)])\n",
    "for s in range(len(h)):\n",
    "    p=np.zeros(100)[np.newaxis].T\n",
    "    p[h[s][0] ]=1 \n",
    "    p[h[s][1] ]=-1\n",
    "    S=np.zeros(len(h))[np.newaxis].T\n",
    "    S[s]=1\n",
    "    A=A+np.dot(p,S.T)*1\n",
    "    \n",
    "    \n",
    "J=np.kron(A,np.identity(3))\n",
    "\n",
    "\n",
    "M=np.zeros([100,100]) \n",
    "np.fill_diagonal(M, 5)\n",
    "M=np.kron(M,np.identity(3)) \n",
    "\n",
    "\n",
    "x=-5\n",
    "d=0\n",
    "for i in range(10):\n",
    "          \n",
    "    y=-5 \n",
    "    for j in range(10):\n",
    "                  \n",
    "        lst[d] = (x, y,0) \n",
    "        y=y+1\n",
    "        d=d+1\n",
    "            \n",
    "        x=x+1\n",
    "v=tuple(lst)   \n",
    "\n",
    "\n",
    "\n",
    "x=np.zeros(300)[np.newaxis].T\n",
    "t=0\n",
    "\n",
    "for i in range(100):\n",
    "    \n",
    "    for j in range(3):\n",
    "        \n",
    "        x[t]=v[i][j]\n",
    "        t=t+1\n",
    "    \n",
    "    "
   ]
  },
  {
   "cell_type": "code",
   "execution_count": null,
   "metadata": {},
   "outputs": [],
   "source": [
    "#dtermination of J "
   ]
  },
  {
   "cell_type": "code",
   "execution_count": null,
   "metadata": {},
   "outputs": [],
   "source": [
    "A=np.zeros([100,len(h)])\n",
    "for s in range(len(h)):\n",
    "    p=np.zeros(100)[np.newaxis].T\n",
    "    p[h[s][0] ]=1 \n",
    "    p[h[s][1] ]=-1\n",
    "    S=np.zeros(len(h))[np.newaxis].T\n",
    "    S[s]=1\n",
    "    A=A+np.dot(p,S.T)*1\n",
    "    \n",
    "    \n",
    "J=np.kron(A,np.identity(3))\n",
    "\n"
   ]
  },
  {
   "cell_type": "code",
   "execution_count": null,
   "metadata": {},
   "outputs": [],
   "source": [
    "J.shape"
   ]
  },
  {
   "cell_type": "code",
   "execution_count": null,
   "metadata": {},
   "outputs": [],
   "source": []
  },
  {
   "cell_type": "code",
   "execution_count": null,
   "metadata": {},
   "outputs": [],
   "source": [
    "#determination of M"
   ]
  },
  {
   "cell_type": "code",
   "execution_count": null,
   "metadata": {},
   "outputs": [],
   "source": [
    "M=np.zeros([100,100]) \n",
    "np.fill_diagonal(M, 5)\n",
    "M=np.kron(M,np.identity(3))"
   ]
  },
  {
   "cell_type": "code",
   "execution_count": null,
   "metadata": {},
   "outputs": [],
   "source": [
    "#determination of x"
   ]
  },
  {
   "cell_type": "code",
   "execution_count": null,
   "metadata": {},
   "outputs": [],
   "source": [
    "x=np.zeros(300)[np.newaxis].T\n",
    "t=0\n",
    "\n",
    "for i in range(100):\n",
    "    \n",
    "    for j in range(3):\n",
    "        \n",
    "        x[t]=v[i][j]\n",
    "        t=t+1\n",
    " "
   ]
  },
  {
   "cell_type": "code",
   "execution_count": null,
   "metadata": {},
   "outputs": [],
   "source": [
    " \n",
    "v1=np.zeros((100,3))\n",
    "t=0\n",
    "\n",
    "for i in range(100):\n",
    "    \n",
    "    for j in range(3):\n",
    "        \n",
    "        v1[i][j]=x[t]\n",
    "        t=t+1"
   ]
  },
  {
   "cell_type": "code",
   "execution_count": null,
   "metadata": {},
   "outputs": [],
   "source": []
  },
  {
   "cell_type": "code",
   "execution_count": null,
   "metadata": {},
   "outputs": [],
   "source": [
    "#determination of d"
   ]
  },
  {
   "cell_type": "code",
   "execution_count": null,
   "metadata": {},
   "outputs": [],
   "source": [
    "d=np.zeros(3*len(h))[np.newaxis].T\n",
    "\n",
    "xn=x\n",
    "for k in range(10):\n",
    "    \n",
    "   \n",
    "     \n",
    "    v1=np.zeros((100,3))\n",
    "    t=0\n",
    "    for i in range(100):\n",
    "            \n",
    "        for j in range(3):\n",
    "                    \n",
    "            v1[i][j]=xn[t]\n",
    "            t=t+1       \n",
    "        \n",
    "    \n",
    "    t=0\n",
    "    for i in range(len(h)):\n",
    "        \n",
    "    \n",
    "        for j in range(3):\n",
    "                     \n",
    "        \n",
    "            p=v1[h[i][0]]-v1[h[i][1]]\n",
    "        \n",
    "            d[t]=p[j]\n",
    "            t=t+1\n",
    "        \n",
    "    xn=np.dot(np.linalg.pinv(M+L),(np.dot(M,xn) + np.dot(J,d) + np.ones(300)[np.newaxis].T)) \n",
    "\n",
    "    \n",
    "\n",
    "    \n",
    "\n",
    "\n",
    "     \n",
    "    \n",
    "\n",
    " "
   ]
  },
  {
   "cell_type": "code",
   "execution_count": null,
   "metadata": {},
   "outputs": [],
   "source": [
    "xn"
   ]
  },
  {
   "cell_type": "code",
   "execution_count": null,
   "metadata": {},
   "outputs": [],
   "source": [
    "v1=np.zeros((100,3))\n",
    "t=0\n",
    "\n",
    "for i in range(100):\n",
    "    \n",
    "    for j in range(3):\n",
    "        \n",
    "        v1[i][j]=xn[t]\n",
    "        t=t+1   "
   ]
  },
  {
   "cell_type": "code",
   "execution_count": null,
   "metadata": {},
   "outputs": [],
   "source": [
    "xn.shape    \n",
    "    \n"
   ]
  },
  {
   "cell_type": "code",
   "execution_count": null,
   "metadata": {},
   "outputs": [],
   "source": [
    "L.shape  "
   ]
  },
  {
   "cell_type": "code",
   "execution_count": null,
   "metadata": {},
   "outputs": [],
   "source": [
    "J.shape"
   ]
  },
  {
   "cell_type": "code",
   "execution_count": null,
   "metadata": {},
   "outputs": [],
   "source": [
    "a=np.dot(np.dot(M,x),np.linalg.pinv(M+L))"
   ]
  },
  {
   "cell_type": "code",
   "execution_count": null,
   "metadata": {},
   "outputs": [],
   "source": [
    "np.dot(M,x) \n",
    "np.linalg.pinv(M)\n"
   ]
  },
  {
   "cell_type": "code",
   "execution_count": null,
   "metadata": {},
   "outputs": [],
   "source": [
    "x"
   ]
  },
  {
   "cell_type": "code",
   "execution_count": null,
   "metadata": {},
   "outputs": [],
   "source": [
    "np.array(v[h[0][0]])"
   ]
  },
  {
   "cell_type": "code",
   "execution_count": null,
   "metadata": {},
   "outputs": [],
   "source": [
    "v"
   ]
  },
  {
   "cell_type": "code",
   "execution_count": null,
   "metadata": {},
   "outputs": [],
   "source": [
    "h"
   ]
  },
  {
   "cell_type": "code",
   "execution_count": null,
   "metadata": {},
   "outputs": [],
   "source": [
    "v"
   ]
  },
  {
   "cell_type": "code",
   "execution_count": null,
   "metadata": {},
   "outputs": [],
   "source": [
    "v1=np.zeros((100,3))"
   ]
  },
  {
   "cell_type": "code",
   "execution_count": null,
   "metadata": {},
   "outputs": [],
   "source": [
    " sampl = np.random.uniform(low=-1, high=1, size=(300,1))"
   ]
  },
  {
   "cell_type": "code",
   "execution_count": null,
   "metadata": {},
   "outputs": [],
   "source": [
    "sampl"
   ]
  },
  {
   "cell_type": "code",
   "execution_count": null,
   "metadata": {},
   "outputs": [],
   "source": [
    "ar=np.zeros((100,3))\n",
    "ar[2]=[3,.3,3]"
   ]
  },
  {
   "cell_type": "code",
   "execution_count": null,
   "metadata": {},
   "outputs": [],
   "source": [
    "ar[100]"
   ]
  },
  {
   "cell_type": "code",
   "execution_count": null,
   "metadata": {},
   "outputs": [],
   "source": [
    "np.absolute(np.absolute(v[h[i][0]]-v[h[i][1]]))"
   ]
  },
  {
   "cell_type": "code",
   "execution_count": null,
   "metadata": {},
   "outputs": [],
   "source": [
    "np.linalg.norm(v[h[i][0]]-v[h[i][1]]) "
   ]
  },
  {
   "cell_type": "code",
   "execution_count": null,
   "metadata": {},
   "outputs": [],
   "source": [
    "v[h[i][0]]-v[h[i][1]]"
   ]
  },
  {
   "cell_type": "code",
   "execution_count": null,
   "metadata": {},
   "outputs": [],
   "source": [
    "v"
   ]
  },
  {
   "cell_type": "code",
   "execution_count": null,
   "metadata": {},
   "outputs": [],
   "source": [
    " r= [[[] for i in range(2)] for i in range(4)] "
   ]
  },
  {
   "cell_type": "code",
   "execution_count": null,
   "metadata": {},
   "outputs": [],
   "source": [
    "r[2]=x"
   ]
  },
  {
   "cell_type": "code",
   "execution_count": null,
   "metadata": {},
   "outputs": [],
   "source": [
    " "
   ]
  },
  {
   "cell_type": "code",
   "execution_count": null,
   "metadata": {},
   "outputs": [],
   "source": [
    " d.T"
   ]
  },
  {
   "cell_type": "code",
   "execution_count": null,
   "metadata": {},
   "outputs": [],
   "source": [
    "r"
   ]
  },
  {
   "cell_type": "code",
   "execution_count": null,
   "metadata": {},
   "outputs": [],
   "source": []
  },
  {
   "cell_type": "code",
   "execution_count": null,
   "metadata": {},
   "outputs": [],
   "source": [
    "import itertools\n",
    "c = itertools.count() \n",
    "c"
   ]
  },
  {
   "cell_type": "code",
   "execution_count": null,
   "metadata": {},
   "outputs": [],
   "source": [
    "r= [[[] for i in range(2)] for i in range(c )] "
   ]
  },
  {
   "cell_type": "code",
   "execution_count": null,
   "metadata": {},
   "outputs": [],
   "source": [
    "float(\"inf\")\n"
   ]
  },
  {
   "cell_type": "code",
   "execution_count": null,
   "metadata": {},
   "outputs": [],
   "source": [
    "import sys\n",
    "for i in xrange(sys.maxint):\n",
    "    if there_is_a_reason_to_break(i):\n",
    "        break"
   ]
  },
  {
   "cell_type": "code",
   "execution_count": null,
   "metadata": {},
   "outputs": [],
   "source": [
    "from itertools import cycle\n",
    "\n",
    "gen = cycle([0])\n",
    "\n",
    " "
   ]
  },
  {
   "cell_type": "code",
   "execution_count": null,
   "metadata": {},
   "outputs": [],
   "source": []
  },
  {
   "cell_type": "code",
   "execution_count": null,
   "metadata": {},
   "outputs": [],
   "source": [
    "import sys\n",
    " "
   ]
  },
  {
   "cell_type": "code",
   "execution_count": null,
   "metadata": {},
   "outputs": [],
   "source": [
    "sys.maxnum"
   ]
  },
  {
   "cell_type": "code",
   "execution_count": null,
   "metadata": {},
   "outputs": [],
   "source": [
    "float('inf')"
   ]
  },
  {
   "cell_type": "code",
   "execution_count": null,
   "metadata": {},
   "outputs": [],
   "source": [
    "import itertools\n",
    "squares = (x*x for x in itertools.count())"
   ]
  },
  {
   "cell_type": "code",
   "execution_count": null,
   "metadata": {},
   "outputs": [],
   "source": [
    "v"
   ]
  },
  {
   "cell_type": "code",
   "execution_count": null,
   "metadata": {},
   "outputs": [],
   "source": []
  },
  {
   "cell_type": "code",
   "execution_count": null,
   "metadata": {},
   "outputs": [],
   "source": [
    "v1[100]=[1,2,2]"
   ]
  },
  {
   "cell_type": "code",
   "execution_count": null,
   "metadata": {},
   "outputs": [],
   "source": [
    "v1.shape"
   ]
  },
  {
   "cell_type": "code",
   "execution_count": null,
   "metadata": {},
   "outputs": [],
   "source": [
    "v[195]"
   ]
  },
  {
   "cell_type": "code",
   "execution_count": null,
   "metadata": {},
   "outputs": [],
   "source": [
    "xn"
   ]
  },
  {
   "cell_type": "code",
   "execution_count": null,
   "metadata": {},
   "outputs": [],
   "source": [
    "  np.reshape(xn, (-1, 3)) "
   ]
  },
  {
   "cell_type": "code",
   "execution_count": null,
   "metadata": {},
   "outputs": [],
   "source": [
    "t=0\n",
    "#v1=np.reshape(xn, (-1, 3))\n",
    "for i in range(len(h)):\n",
    "    \n",
    "             \n",
    "    for j in range(3):\n",
    "        \n",
    "                \n",
    " \n",
    "        p=((v1[h[i][0]]-v1[h[i][1]])/(np.linalg.norm(v1[h[i][0]]-v1[h[i][1]])))*space\n",
    "        \n",
    "        d[t]=p[j]\n",
    "        t=t+1\n",
    "        "
   ]
  },
  {
   "cell_type": "code",
   "execution_count": null,
   "metadata": {},
   "outputs": [],
   "source": []
  },
  {
   "cell_type": "code",
   "execution_count": null,
   "metadata": {},
   "outputs": [],
   "source": [
    "t=0\n",
    "v1=np.reshape(xn, (-1, 3))\n",
    "p=np.zeros((len(h),3))\n",
    "for i in range(len(h)):\n",
    "    \n",
    "    p[i]=((v1[h[i][0]]-v1[h[i][1]])/(np.linalg.norm(v1[h[i][0]]-v1[h[i][1]])))*space\n",
    "    \n",
    "d=np.reshape(p, (-1, 1))        \n",
    "      \n",
    "        \n",
    "                \n",
    " \n",
    "        \n",
    "        \n",
    "         "
   ]
  },
  {
   "cell_type": "code",
   "execution_count": null,
   "metadata": {},
   "outputs": [],
   "source": [
    "d.shape"
   ]
  },
  {
   "cell_type": "code",
   "execution_count": null,
   "metadata": {},
   "outputs": [],
   "source": [
    "len(h)*3 "
   ]
  },
  {
   "cell_type": "code",
   "execution_count": null,
   "metadata": {},
   "outputs": [],
   "source": [
    " d[1]=[2,3,3,3]"
   ]
  },
  {
   "cell_type": "code",
   "execution_count": null,
   "metadata": {},
   "outputs": [],
   "source": [
    " d"
   ]
  },
  {
   "cell_type": "code",
   "execution_count": null,
   "metadata": {},
   "outputs": [],
   "source": [
    "r=np.zeros(3*len(h))[np.newaxis].T"
   ]
  },
  {
   "cell_type": "code",
   "execution_count": null,
   "metadata": {},
   "outputs": [],
   "source": [
    "r[1]=p"
   ]
  },
  {
   "cell_type": "code",
   "execution_count": null,
   "metadata": {},
   "outputs": [],
   "source": []
  }
 ],
 "metadata": {
  "kernelspec": {
   "display_name": "Python 3",
   "language": "python",
   "name": "python3"
  },
  "language_info": {
   "codemirror_mode": {
    "name": "ipython",
    "version": 3
   },
   "file_extension": ".py",
   "mimetype": "text/x-python",
   "name": "python",
   "nbconvert_exporter": "python",
   "pygments_lexer": "ipython3",
   "version": "3.5.6"
  }
 },
 "nbformat": 4,
 "nbformat_minor": 2
}
